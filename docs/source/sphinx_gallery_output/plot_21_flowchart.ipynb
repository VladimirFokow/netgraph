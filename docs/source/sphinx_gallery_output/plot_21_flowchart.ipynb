{
  "cells": [
    {
      "cell_type": "code",
      "execution_count": null,
      "metadata": {
        "collapsed": false
      },
      "outputs": [],
      "source": [
        "%matplotlib inline"
      ]
    },
    {
      "cell_type": "markdown",
      "metadata": {},
      "source": [
        "\n# Flowchart\n\nExample adapted from https://xkcd.com/1195/.\n"
      ]
    },
    {
      "cell_type": "code",
      "execution_count": null,
      "metadata": {
        "collapsed": false
      },
      "outputs": [],
      "source": [
        "import matplotlib.pyplot as plt\n\nfrom netgraph import InteractiveGraph as Graph\n\nedges = [(0, 1), (1, 1)]\n\nnode_labels = {\n    0 : \"START\",\n    1 : \"HEY, WAIT,\\nTHIS FLOWCHART\\nIS A TRAP!\"\n}\n\nedge_labels = {\n    (1, 1) : \"YES\"\n}\n\nnode_shape = {\n    0 : 's',\n    1 : 'd',\n}\n\nnode_size = {\n    0 : 10,\n    1 : 20,\n}\n\nnode_positions = {\n    0 : (0.5, 0.8),\n    1 : (0.5, 0.3),\n}\n\nwith plt.xkcd():\n    fig, ax = plt.subplots()\n    Graph(edges, node_layout=node_positions,\n          node_labels=node_labels, edge_labels=edge_labels,\n          node_size=node_size, node_shape=node_shape,\n          arrows=True, ax=ax)\n    ax.set_title(\"https://xkcd.com/1195/\")\n    plt.show()"
      ]
    }
  ],
  "metadata": {
    "kernelspec": {
      "display_name": "Python 3",
      "language": "python",
      "name": "python3"
    },
    "language_info": {
      "codemirror_mode": {
        "name": "ipython",
        "version": 3
      },
      "file_extension": ".py",
      "mimetype": "text/x-python",
      "name": "python",
      "nbconvert_exporter": "python",
      "pygments_lexer": "ipython3",
      "version": "3.9.12"
    }
  },
  "nbformat": 4,
  "nbformat_minor": 0
}