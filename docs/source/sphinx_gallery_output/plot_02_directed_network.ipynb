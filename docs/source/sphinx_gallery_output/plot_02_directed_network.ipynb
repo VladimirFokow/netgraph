{
  "cells": [
    {
      "cell_type": "code",
      "execution_count": null,
      "metadata": {
        "collapsed": false
      },
      "outputs": [],
      "source": [
        "%matplotlib inline"
      ]
    },
    {
      "cell_type": "markdown",
      "metadata": {},
      "source": [
        "\n# Directed Graphs\n\nDefault visualisation for a directed graph.\n\n"
      ]
    },
    {
      "cell_type": "code",
      "execution_count": null,
      "metadata": {
        "collapsed": false
      },
      "outputs": [],
      "source": [
        "import matplotlib.pyplot as plt\n\nfrom netgraph import Graph\n\ncube = [\n    (0, 1),\n    (1, 2),\n    (2, 3), # <- bidirectional edges\n    (3, 2), # <-\n    (3, 0),\n    (4, 5),\n    (5, 6), # <-\n    (6, 5), # <-\n    (6, 7),\n    (0, 4),\n    (7, 4),\n    (1, 5), # <-\n    (5, 1), # <-\n    (2, 6),\n    (3, 7)\n]\n\nGraph(cube, edge_width=2., arrows=True)\nplt.show()"
      ]
    }
  ],
  "metadata": {
    "kernelspec": {
      "display_name": "Python 3",
      "language": "python",
      "name": "python3"
    },
    "language_info": {
      "codemirror_mode": {
        "name": "ipython",
        "version": 3
      },
      "file_extension": ".py",
      "mimetype": "text/x-python",
      "name": "python",
      "nbconvert_exporter": "python",
      "pygments_lexer": "ipython3",
      "version": "3.6.8"
    }
  },
  "nbformat": 4,
  "nbformat_minor": 0
}