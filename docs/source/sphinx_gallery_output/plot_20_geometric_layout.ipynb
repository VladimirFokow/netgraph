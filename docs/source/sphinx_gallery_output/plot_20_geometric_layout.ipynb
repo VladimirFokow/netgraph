{
  "cells": [
    {
      "cell_type": "code",
      "execution_count": null,
      "metadata": {
        "collapsed": false
      },
      "outputs": [],
      "source": [
        "%matplotlib inline"
      ]
    },
    {
      "cell_type": "markdown",
      "metadata": {},
      "source": [
        "\n# Geometric node layout\n\nInfer node positions given the length of the edges between them.\n"
      ]
    },
    {
      "cell_type": "code",
      "execution_count": null,
      "metadata": {
        "collapsed": false
      },
      "outputs": [],
      "source": [
        "import numpy as np\nimport matplotlib.pyplot as plt\nimport networkx as nx\n\nfrom netgraph import Graph\n\n# create a random geometric graph\ng = nx.random_geometric_graph(50, 0.3, seed=2)\noriginal_positions = nx.get_node_attributes(g, 'pos')\n\nfig, (ax1, ax2) = plt.subplots(1, 2)\nplot_instance = Graph(g,\n                      node_layout=original_positions,\n                      node_size=1,\n                      node_edge_width=0.1,\n                      edge_width=0.1,\n                      ax=ax1,\n)\nax1.axis([0, 1, 0, 1])\nax1.set_title('Original node positions')\n\n# compute edge lengths\nedge_length = dict()\nfor (source, target) in g.edges:\n    x1, y1 = original_positions[source]\n    x2, y2 = original_positions[target]\n    edge_length[(source, target)] = np.sqrt((x2 - x1)**2 + (y2 - y1)**2)\n\n# use non-linear optimisation to infer node positions given the edge lengths\nGraph(g,\n      node_layout=\"geometric\",\n      node_layout_kwargs=dict(edge_length=edge_length, tol=1e-3),\n      node_size=1,\n      node_edge_width=0.1,\n      edge_width=0.1,\n      ax=ax2,\n)\nax2.axis([0, 1, 0, 1])\nax2.set_title('Reconstructed node positions')\n\nplt.show()"
      ]
    }
  ],
  "metadata": {
    "kernelspec": {
      "display_name": "Python 3",
      "language": "python",
      "name": "python3"
    },
    "language_info": {
      "codemirror_mode": {
        "name": "ipython",
        "version": 3
      },
      "file_extension": ".py",
      "mimetype": "text/x-python",
      "name": "python",
      "nbconvert_exporter": "python",
      "pygments_lexer": "ipython3",
      "version": "3.9.12"
    }
  },
  "nbformat": 4,
  "nbformat_minor": 0
}